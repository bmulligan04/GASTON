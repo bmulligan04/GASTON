{
 "cells": [
  {
   "cell_type": "code",
   "execution_count": null,
   "id": "9a732416-d5f6-4988-8f41-a7a0d06dbcf2",
   "metadata": {},
   "outputs": [],
   "source": [
    "import sys\n",
    "import os\n",
    "from collections import defaultdict\n",
    "import pandas as pd\n",
    "import scanpy as sc\n",
    "import numpy as np\n",
    "import matplotlib.pyplot as plt\n",
    "from glmpca import glmpca\n",
    "from itertools import combinations\n",
    "import torch\n",
    "import scipy\n",
    "from scipy.stats import pearsonr\n",
    "from scipy import stats\n",
    "from scipy.interpolate import UnivariateSpline\n",
    "import gseapy as gp\n",
    "\n",
    "import sys\n",
    "from importlib import reload\n",
    "\n",
    "import gaston\n",
    "from gaston import neural_net,cluster_plotting, dp_related, segmented_fit, restrict_spots, model_selection\n",
    "from gaston import binning_and_plotting, isodepth_scaling, run_slurm_scripts, parse_adata\n",
    "from gaston import spatial_gene_classification, plot_cell_types, filter_genes, process_NN_output\n",
    "\n",
    "import seaborn as sns\n",
    "import math"
   ]
  },
  {
   "cell_type": "markdown",
   "id": "656da67e-ca30-41f4-abea-881427f333cf",
   "metadata": {},
   "source": [
    "## Import Data"
   ]
  },
  {
   "cell_type": "code",
   "execution_count": null,
   "id": "369d4a0f-c6bc-4e9d-ac40-46bd9d1ba0d4",
   "metadata": {
    "scrolled": true
   },
   "outputs": [],
   "source": [
    "file_path='----/----_norm.h5ad' #replace with normalized h5ad file\n",
    "adata=sc.read_h5ad(f'{file_path}')\n",
    "HIF=pd.read_csv(f'public_data/HIF-1_signaling_pathway.csv')\n",
    "EMT=pd.read_csv(f'public_data/EMT.csv')\n",
    "\n",
    "#remove DEPRECATED genes\n",
    "deprecated_genes = adata.var_names[adata.var_names.str.startswith('DEPRECATED')]\n",
    "adata = adata[:, ~adata.var_names.isin(deprecated_genes)].copy()\n",
    "\n",
    "counts_mat=np.array(adata.to_df())\n",
    "coords_mat=adata.obsm['spatial']\n",
    "coords_mat=np.fliplr(coords_mat)\n",
    "gene_labels=np.array(adata.var.index)\n",
    "\n",
    "use_RGB=False\n",
    "# save matrices\n",
    "np.save('test_data/counts_mat.npy', counts_mat)\n",
    "np.save('test_data/coords_mat.npy', coords_mat)\n",
    "np.save('test_data/gene_labels.npy', gene_labels)"
   ]
  },
  {
   "cell_type": "code",
   "execution_count": null,
   "id": "844ae722-3801-4f88-8025-d99137ea5d11",
   "metadata": {
    "scrolled": true
   },
   "outputs": [],
   "source": [
    "# GLM-PCA parameters\n",
    "num_dims=5\n",
    "penalty=20 # may need to increase if this is too small\n",
    "\n",
    "# CHANGE THESE PARAMETERS TO REDUCE RUNTIME\n",
    "num_iters=30\n",
    "eps=1e-4\n",
    "num_genes=10000\n",
    "\n",
    "counts_mat_glmpca=counts_mat[:,np.argsort(np.sum(counts_mat, axis=0))[-num_genes:]]\n",
    "glmpca_res=glmpca.glmpca(counts_mat_glmpca.T, num_dims, fam=\"poi\", penalty=penalty, verbose=True,\n",
    "                        ctl = {\"maxIter\":num_iters, \"eps\":eps, \"optimizeTheta\":True})\n",
    "A = glmpca_res['factors'] # should be of size N x num_dims, where each column is a PC\n",
    "\n",
    "if use_RGB:\n",
    "    A=np.hstack((A,rgb_mean)) # attach to RGB mean\n",
    "np.save('test_data/glmpca.npy', A)"
   ]
  },
  {
   "cell_type": "code",
   "execution_count": null,
   "id": "5da4da04-a04f-420a-9b32-c0914c1be9d1",
   "metadata": {},
   "outputs": [],
   "source": [
    "# visualize top GLM-PCs and RGB mean\n",
    "rotated_coords=dp_related.rotate_by_theta(coords_mat, -np.pi/2)\n",
    "R=1\n",
    "C=5\n",
    "fig,axs=plt.subplots(R,C,figsize=(24,4))\n",
    "for r in range(R):\n",
    "    for c in range(C):\n",
    "        i=r*C+c\n",
    "        axs[c].scatter(rotated_coords[:,0], rotated_coords[:,1], c=A[:,i],cmap='Reds',s=3)\n",
    "        axs[c].set_title(f'GLM-PC{i}')"
   ]
  },
  {
   "cell_type": "code",
   "execution_count": null,
   "id": "9ba80f56-d4d1-4982-8a7f-16f88877250e",
   "metadata": {
    "scrolled": true
   },
   "outputs": [],
   "source": [
    "# LOAD DATA generated above\n",
    "path_to_glmpca='test_data/glmpca.npy'\n",
    "path_to_coords='test_data/coords_mat.npy'\n",
    "\n",
    "# GASTON NN parameters\n",
    "isodepth_arch=[20,20] # architecture (two hidden layers of size 20) for isodepth neural network d(x,y)\n",
    "expression_arch=[20,20] # architecture (two hidden layers of size 20) for 1-D expression function\n",
    "epochs = 10000 # number of epochs to train NN\n",
    "checkpoint = 500 # save model after number of epochs = multiple of checkpoint\n",
    "optimizer = \"adam\"\n",
    "num_restarts=30 # number of initializations\n",
    "\n",
    "output_dir='test_outputs' # folder to save model runs\n",
    "\n",
    "# REPLACE with your own conda environment name and path\n",
    "conda_environment='gaston-package'\n",
    "path_to_conda_folder='/mullib/miniconda3/bin/activate'\n",
    "\n",
    "run_slurm_scripts.train_NN_parallel(path_to_coords, path_to_glmpca, isodepth_arch, expression_arch, \n",
    "                      output_dir, conda_environment, path_to_conda_folder,\n",
    "                      epochs=epochs, checkpoint=checkpoint, \n",
    "                      num_seeds=num_restarts)"
   ]
  },
  {
   "cell_type": "code",
   "execution_count": null,
   "id": "3221311c-615f-4d3d-8755-a9b4cedf1479",
   "metadata": {},
   "outputs": [],
   "source": [
    "gaston_model, A, S= process_NN_output.process_files('test_outputs') # model trained above\n",
    "#gaston_model, A, S= process_NN_output.process_files('results/HH/02-S10-36130-1D/') \n",
    "    \n",
    "# May need to re-load counts_mat, coords_mat, and gene_labels\n",
    "counts_mat=np.load('test_data/counts_mat.npy',allow_pickle=True)\n",
    "coords_mat=np.load('test_data/coords_mat.npy',allow_pickle=True)\n",
    "gene_labels=np.load('test_data/gene_labels.npy',allow_pickle=True)"
   ]
  },
  {
   "cell_type": "code",
   "execution_count": null,
   "id": "11df5c2b-d94e-4473-aca1-06132c66d4ef",
   "metadata": {},
   "outputs": [],
   "source": [
    "model_selection.plot_ll_curve(gaston_model, A, S, max_domain_num=8, start_from=2)"
   ]
  },
  {
   "cell_type": "code",
   "execution_count": null,
   "id": "d303e309-d76d-4c11-8e53-e7ca5830b4ba",
   "metadata": {},
   "outputs": [],
   "source": [
    "num_layers=4 # CHANGE FOR YOUR APPLICATION: use number of layers from above!\n",
    "gaston_isodepth, gaston_labels=dp_related.get_isodepth_labels(gaston_model,A,S,num_layers)\n",
    "\n",
    "# DATASET-SPECIFIC: so domains are ordered with tumor being last\n",
    "gaston_isodepth= np.max(gaston_isodepth) -1 * gaston_isodepth\n",
    "gaston_labels=(num_layers-1)-gaston_labels"
   ]
  },
  {
   "cell_type": "code",
   "execution_count": null,
   "id": "f4d280d1-e92b-4d8c-92e1-dc68df023dfd",
   "metadata": {},
   "outputs": [],
   "source": [
    "show_streamlines=True\n",
    "rotate = np.radians(-90) # rotate coordinates by -90\n",
    "arrowsize=2\n",
    "\n",
    "cluster_plotting.plot_isodepth(gaston_isodepth, S, gaston_model, figsize=(8,6), streamlines=show_streamlines, \n",
    "                               rotate=rotate,arrowsize=arrowsize, neg_gradient=True)"
   ]
  },
  {
   "cell_type": "code",
   "execution_count": null,
   "id": "89fce2a3-b66f-4099-8d3f-29d2972ef615",
   "metadata": {},
   "outputs": [],
   "source": [
    "domain_colors=colors=['#16537e', '#93c47d', '#e99445', '#8ecae6','#6c4747']\n",
    "domain_colors=colors=['#8ecae6','#e99445','#93c47d', '#16537e','#6c4747']\n",
    "\n",
    "cluster_plotting.plot_clusters(gaston_labels, S, figsize=(6.7,6.5), \n",
    "                               colors=domain_colors, s=20, lgd=False, \n",
    "                               show_boundary=True, gaston_isodepth=gaston_isodepth, boundary_lw=5, rotate=rotate)"
   ]
  },
  {
   "cell_type": "markdown",
   "id": "acedac56-8b77-464d-b8b9-10731f234e8c",
   "metadata": {},
   "source": [
    "Restrict Spots"
   ]
  },
  {
   "cell_type": "code",
   "execution_count": null,
   "id": "a795c46b-40b5-4664-bc63-d86e63fe5174",
   "metadata": {},
   "outputs": [],
   "source": [
    "# This is the range we used for reproducing figure papers.\n",
    "isodepth_min=0\n",
    "isodepth_max=8\n",
    "\n",
    "cluster_plotting.plot_clusters_restrict(gaston_labels, S, gaston_isodepth, \n",
    "                                        isodepth_min=isodepth_min, isodepth_max=isodepth_max, figsize=(5,5), \n",
    "                                        colors=domain_colors, s=2, lgd=False, rotate=rotate)"
   ]
  },
  {
   "cell_type": "code",
   "execution_count": null,
   "id": "0027fcbc-767a-4622-8f82-aec14c6781d9",
   "metadata": {},
   "outputs": [],
   "source": [
    "# Optional: adjust isodepth for physical distance\n",
    "adjust_physical=False\n",
    "scale_factor=100 # since distance of 1 = 100 microns for 10x Visium\n",
    "\n",
    "# Optional: plot isodepth for green spots\n",
    "plot_isodepth=False\n",
    "\n",
    "# plotting parameters\n",
    "show_streamlines=True\n",
    "rotate=np.radians(-90)\n",
    "arrowsize=1\n",
    "\n",
    "\n",
    "counts_mat_restrict, coords_mat_restrict, gaston_isodepth_restrict, gaston_labels_restrict, S_restrict=restrict_spots.restrict_spots(\n",
    "                                                             counts_mat, coords_mat, S, gaston_isodepth, gaston_labels, \n",
    "                                                             isodepth_min=isodepth_min, isodepth_max=isodepth_max, \n",
    "                                                             adjust_physical=adjust_physical, scale_factor=scale_factor,\n",
    "                                                             plot_isodepth=plot_isodepth, show_streamlines=show_streamlines, \n",
    "                                                             gaston_model=gaston_model, rotate=rotate, figsize=(6,3), \n",
    "                                                             arrowsize=arrowsize, \n",
    "                                                             neg_gradient=True) # since we reversed gradient direction earlier"
   ]
  },
  {
   "cell_type": "code",
   "execution_count": null,
   "id": "8a2db5a4-7ea5-4ee9-903b-1626b59b6f50",
   "metadata": {
    "scrolled": true
   },
   "outputs": [],
   "source": [
    "df=pd.DataFrame(data=counts_mat_restrict,columns=gene_labels)\n",
    "df2=df.assign(isodepth=gaston_isodepth_restrict)\n",
    "correlation_list=[]\n",
    "p_value_list=[]\n",
    "\n",
    "for gene_name in df.columns:\n",
    "    correlation,p_value=pearsonr(df[gene_name],df2['isodepth'])\n",
    "    correlation_list.append(correlation)\n",
    "    p_value_list.append(p_value)   "
   ]
  },
  {
   "cell_type": "code",
   "execution_count": null,
   "id": "838e3728-c6eb-454c-b1d2-635e8b990fe9",
   "metadata": {
    "scrolled": true
   },
   "outputs": [],
   "source": [
    "correlation_matrix=[df.columns,correlation_list,p_value_list]\n",
    "df4=pd.DataFrame(correlation_matrix)\n",
    "new_header = df4.iloc[0] \n",
    "df4 = df4[1:] \n",
    "df4.columns = new_header\n",
    "df4 = df4.reset_index(drop=True)\n",
    "df4.index = ['correlation','p_value']\n",
    "for i in df4.columns:\n",
    "    if np.isnan(df4.loc['correlation',i]):\n",
    "        del df4[i]\n",
    "    if np.isnan(df4.loc['p_value',i]):\n",
    "        del df4[i]\n",
    "    if np.abs(df4.loc['correlation',i])<0.05:\n",
    "        del df4[i]\n",
    "df4=df4.sort_values(ascending=False,by = 'correlation', axis = 1) \n",
    "#df5 = df4.loc[:, df4.loc['p_value'] >= 0.00001]\n",
    "#scipy.stats.false_discovery_control(p_values, method='bh')\n",
    "#df4.to_csv(path_or_buf='results/HH/gene_correlation.csv')\n",
    "df4"
   ]
  },
  {
   "cell_type": "code",
   "execution_count": null,
   "id": "f33af781-fcf2-40d8-881a-42012fed3c01",
   "metadata": {},
   "outputs": [],
   "source": [
    "proportional_significant_genes=df4.columns[df4.loc['correlation',:]>0.2]\n",
    "inversely_significant_genes=df4.columns[df4.loc['correlation',:]<-0.2]\n",
    "#print('proportionally significant genes:',proportional_significant_genes)\n",
    "#print('inversely significant genes:',inversely_significant_genes)\n",
    "df5=df4[proportional_significant_genes].T\n",
    "df6=df4[inversely_significant_genes].T"
   ]
  },
  {
   "cell_type": "code",
   "execution_count": null,
   "id": "48c9d9ec-feea-44ab-8ea5-54a5995ab1d1",
   "metadata": {},
   "outputs": [],
   "source": [
    "print('positive correlation')\n",
    "df5"
   ]
  },
  {
   "cell_type": "code",
   "execution_count": null,
   "id": "f0382c61-8a52-4a62-931a-5aec6392e86a",
   "metadata": {},
   "outputs": [],
   "source": [
    "print('negative correlation:')\n",
    "df6"
   ]
  },
  {
   "cell_type": "code",
   "execution_count": null,
   "id": "95373d3b-63bc-4994-9e46-23448fc48b0b",
   "metadata": {
    "scrolled": true
   },
   "outputs": [],
   "source": [
    "umi_thresh = 1000\n",
    "idx_kept, gene_labels_idx=filter_genes.filter_genes(counts_mat, gene_labels, \n",
    "                                       umi_threshold=umi_thresh, \n",
    "                                       exclude_prefix=['MT-', 'RPL', 'RPS'])"
   ]
  },
  {
   "cell_type": "code",
   "execution_count": null,
   "id": "e5024cc6-606b-423b-b008-cf0e44b33394",
   "metadata": {},
   "outputs": [],
   "source": [
    "# compute piecewise linear fit for restricted spots\n",
    "pw_fit_dict=segmented_fit.pw_linear_fit(counts_mat_restrict, gaston_labels_restrict, gaston_isodepth_restrict,\n",
    "                                        None, [],  idx_kept=idx_kept, umi_threshold=umi_thresh, isodepth_mult_factor=0.01,)\n",
    "# for plotting\n",
    "binning_output=binning_and_plotting.bin_data(counts_mat_restrict.T, gaston_labels_restrict, gaston_isodepth_restrict, \n",
    "                         None, gene_labels, idx_kept=idx_kept, num_bins=15, umi_threshold=umi_thresh)"
   ]
  },
  {
   "cell_type": "code",
   "execution_count": null,
   "id": "a9377484-4c2f-4c50-af70-6922573b9f76",
   "metadata": {},
   "outputs": [],
   "source": [
    "domain_colors=['plum', 'dodgerblue', 'cadetblue', '#F44E3F','orange']\n",
    "\n",
    "domain_colors=['#16537e', '#93c47d', '#e99445', '#8ecae6','#6c4747']\n",
    "\n",
    "discont_genes_layer=spatial_gene_classification.get_discont_genes(pw_fit_dict, binning_output,q=0.95)\n",
    "cont_genes_layer=spatial_gene_classification.get_cont_genes(pw_fit_dict, binning_output,q=0.8)"
   ]
  },
  {
   "cell_type": "code",
   "execution_count": null,
   "id": "c6e7f35e-07b8-4ca8-a1dc-4ab3a4eca1fa",
   "metadata": {},
   "outputs": [],
   "source": [
    "gene_name='COX7B'\n",
    "print(f'gene {gene_name}: discontinuous jump after domain(s) {discont_genes_layer[gene_name]}') \n",
    "print(f'gene {gene_name}: continuous gradient in domain(s) {cont_genes_layer[gene_name]}')\n",
    "\n",
    "# display log CPM (if you want to do CP500, set offset=500)\n",
    "offset=10**6\n",
    "\n",
    "binning_and_plotting.plot_gene_pwlinear(gene_name, pw_fit_dict, gaston_labels_restrict, gaston_isodepth_restrict, \n",
    "                                        binning_output, cell_type_list=None, pt_size=50, colors=domain_colors, \n",
    "                                        linear_fit=True, ticksize=15, figsize=(4,2.5), offset=offset, lw=3,\n",
    "                                       domain_boundary_plotting=True)"
   ]
  },
  {
   "cell_type": "code",
   "execution_count": null,
   "id": "7d5a14e6-ec6f-4132-97f4-5688f70fd0da",
   "metadata": {},
   "outputs": [],
   "source": [
    "rotate=np.radians(-90)\n",
    "\n",
    "binning_and_plotting.plot_gene_raw(gene_name, gene_labels_idx, counts_mat_restrict[:,idx_kept], S_restrict, vmin=5, \n",
    "                                   figsize=(6.11,4),s=10,rotate=rotate)\n",
    "plt.title(f'{gene_name} Raw Expression')\n",
    "binning_and_plotting.plot_gene_function(gene_name, S_restrict, pw_fit_dict, gaston_labels_restrict, gaston_isodepth_restrict, \n",
    "                                        binning_output, figsize=(6,4),rotate=rotate,s=10)\n",
    "plt.title(f'{gene_name} GASTON Function')\n",
    "plt.show()"
   ]
  },
  {
   "cell_type": "code",
   "execution_count": null,
   "id": "4700744b-8444-49f9-b3da-82efc8774ee7",
   "metadata": {},
   "outputs": [],
   "source": [
    "sc.pp.pca(adata)\n",
    "sc.pp.neighbors(adata,n_neighbors=25,metric='euclidean')\n",
    "sc.tl.leiden(adata,resolution=.2)\n",
    "sc.tl.umap(adata)\n",
    "cluster_spots=adata.obs[\"leiden\"].tolist()\n",
    "sc.pl.umap(adata, color='leiden', palette=\"plasma\")\n",
    "print('RNA-clusters:',np.unique(cluster_spots))"
   ]
  },
  {
   "cell_type": "code",
   "execution_count": null,
   "id": "1bdf2c6c-10a2-4d4e-916b-56ae4ed8c2d7",
   "metadata": {},
   "outputs": [],
   "source": [
    "np.shape(gaston_isodepth_restrict)\n",
    "gaston_labels_restrict"
   ]
  },
  {
   "cell_type": "code",
   "execution_count": null,
   "id": "7c4d3b0f-11ff-41c2-ba41-5b78c0d06059",
   "metadata": {},
   "outputs": [],
   "source": [
    "plt.scatter(np.arange(4468),gaston_isodepth_restrict, c=gaston_labels_restrict)"
   ]
  },
  {
   "cell_type": "code",
   "execution_count": null,
   "id": "27868ff6-af40-44ae-a0bf-7e1983986f77",
   "metadata": {},
   "outputs": [],
   "source": [
    "plot_df=pd.DataFrame(data=counts_mat,columns=gene_labels)\n",
    "plot_df=plot_df.assign(isodepth=gaston_isodepth)\n",
    "plot_df=plot_df.assign(domains=gaston_labels)\n",
    "plot_df=plot_df.assign(clusters=cluster_spots)\n",
    "plot_df"
   ]
  },
  {
   "cell_type": "code",
   "execution_count": null,
   "id": "bca7c909-5913-46f9-b3cb-6bc11cdf8e6c",
   "metadata": {},
   "outputs": [],
   "source": [
    "gene_name='TMSB10'\n",
    "plt.subplots()\n",
    "color = np.array(plot_df['clusters'], dtype=int)\n",
    "plt.scatter(gaston_isodepth,plot_df[gene_name],c=color,cmap='plasma',s=4)\n",
    "plt.ylabel('expression')\n",
    "\n",
    "#spl = UnivariateSpline(gaston_isodepth,plot_df[gene_name])\n",
    "#xs = np.linspace(-3, 3, 1000)\n",
    "#plt.plot(xs, spl(xs), 'g', lw=3)\n",
    "\n",
    "print(f'gene {gene_name}: discontinuous after domain(s) {discont_genes_layer[gene_name]}') \n",
    "print(f'gene {gene_name}: continuous in domain(s) {cont_genes_layer[gene_name]}')\n",
    "\n",
    "# display log CPM (if you want to do CP500, set offset=500)\n",
    "offset=10**6\n",
    "binning_and_plotting.plot_gene_pwlinear(gene_name, pw_fit_dict, gaston_labels_restrict, gaston_isodepth_restrict, \n",
    "                                        binning_output, cell_type_list=None, pt_size=50, colors=domain_colors, \n",
    "                                        linear_fit=True, ticksize=15, figsize=(4.5,3), offset=offset, lw=3,\n",
    "                                       domain_boundary_plotting=True)"
   ]
  }
 ],
 "metadata": {
  "kernelspec": {
   "display_name": "gaston-package",
   "language": "python",
   "name": "gaston-package"
  },
  "language_info": {
   "codemirror_mode": {
    "name": "ipython",
    "version": 3
   },
   "file_extension": ".py",
   "mimetype": "text/x-python",
   "name": "python",
   "nbconvert_exporter": "python",
   "pygments_lexer": "ipython3",
   "version": "3.11.5"
  }
 },
 "nbformat": 4,
 "nbformat_minor": 5
}
